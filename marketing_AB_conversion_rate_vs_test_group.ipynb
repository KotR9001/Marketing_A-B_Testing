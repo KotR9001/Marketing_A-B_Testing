{
 "cells": [
  {
   "cell_type": "code",
   "execution_count": 1,
   "metadata": {},
   "outputs": [
    {
     "data": {
      "text/html": [
       "<div>\n",
       "<style scoped>\n",
       "    .dataframe tbody tr th:only-of-type {\n",
       "        vertical-align: middle;\n",
       "    }\n",
       "\n",
       "    .dataframe tbody tr th {\n",
       "        vertical-align: top;\n",
       "    }\n",
       "\n",
       "    .dataframe thead th {\n",
       "        text-align: right;\n",
       "    }\n",
       "</style>\n",
       "<table border=\"1\" class=\"dataframe\">\n",
       "  <thead>\n",
       "    <tr style=\"text-align: right;\">\n",
       "      <th></th>\n",
       "      <th>sum_sq</th>\n",
       "      <th>df</th>\n",
       "      <th>F</th>\n",
       "      <th>PR(&gt;F)</th>\n",
       "    </tr>\n",
       "  </thead>\n",
       "  <tbody>\n",
       "    <tr>\n",
       "      <th>test_group</th>\n",
       "      <td>8.744757e+01</td>\n",
       "      <td>1.0</td>\n",
       "      <td>0.04576</td>\n",
       "      <td>0.830613</td>\n",
       "    </tr>\n",
       "    <tr>\n",
       "      <th>Residual</th>\n",
       "      <td>1.123869e+09</td>\n",
       "      <td>588099.0</td>\n",
       "      <td>NaN</td>\n",
       "      <td>NaN</td>\n",
       "    </tr>\n",
       "  </tbody>\n",
       "</table>\n",
       "</div>"
      ],
      "text/plain": [
       "                  sum_sq        df        F    PR(>F)\n",
       "test_group  8.744757e+01       1.0  0.04576  0.830613\n",
       "Residual    1.123869e+09  588099.0      NaN       NaN"
      ]
     },
     "execution_count": 1,
     "metadata": {},
     "output_type": "execute_result"
    }
   ],
   "source": [
    "# The following code to create a dataframe and remove duplicated rows is always executed and acts as a preamble for your script: \n",
    "\n",
    "# dataset = pandas.DataFrame(undefined)\n",
    "# dataset = dataset.drop_duplicates()\n",
    "\n",
    "# Paste or type your script code here:\n",
    "\n",
    "#Found method to perform ANOVA Analysis at https://www.reneshbedre.com/blog/anova.html\n",
    "import pandas as pd\n",
    "import matplotlib.pyplot as plt\n",
    "import seaborn as sns\n",
    "\n",
    "marketing_ab = pd.read_csv(\"C:/Users/bjros/OneDrive/Desktop/Kaggle Data Sets/Marketing_A-B_Testing/marketing_AB.csv\")\n",
    "#Replace Spaces with \"_\" Character in Column Names\n",
    "marketing_ab_1 = marketing_ab.rename(columns={'test group':'test_group', 'total ads':'total_ads'})\n",
    "\n",
    "#Create a Summary Table\n",
    "import scipy.stats as stats\n",
    "# stats f_oneway functions takes the groups as input and returns ANOVA F and p value\n",
    "#fvalue, pvalue = stats.f_oneway(marketing_ab.loc[marketing_ab['test group']=='ad']['total ads'], marketing_ab.loc[marketing_ab['test group']=='psa']['total ads'])\n",
    "#print(fvalue, pvalue)\n",
    "\n",
    "# get ANOVA table as R like output\n",
    "import statsmodels.api as sm\n",
    "from statsmodels.formula.api import ols\n",
    "\n",
    "# Ordinary Least Squares (OLS) model\n",
    "model = ols(formula='total_ads ~ test_group', data=marketing_ab_1).fit()\n",
    "anova_table = sm.stats.anova_lm(model, typ=2)\n",
    "anova_table"
   ]
  },
  {
   "cell_type": "code",
   "execution_count": 2,
   "metadata": {},
   "outputs": [],
   "source": [
    "#Write the Table to a CSV File\n",
    "anova_table.to_csv('marketing_AB_conversion_rate_vs_test_group.csv')"
   ]
  },
  {
   "cell_type": "code",
   "execution_count": 3,
   "metadata": {},
   "outputs": [
    {
     "data": {
      "text/plain": [
       "(4.571428571428571,\n",
       " 0.032509444645719456,\n",
       " 0.02147185215423815,\n",
       " array([[6, 1],\n",
       "        [1, 6]], dtype=int64))"
      ]
     },
     "execution_count": 3,
     "metadata": {},
     "output_type": "execute_result"
    }
   ],
   "source": [
    "# The following code to create a dataframe and remove duplicated rows is always executed and acts as a preamble for your script: \n",
    "\n",
    "# dataset = pandas.DataFrame(undefined)\n",
    "# dataset = dataset.drop_duplicates()\n",
    "\n",
    "# Paste or type your script code here:\n",
    "\n",
    "#Found method to perform Mood's Median Analysis at https://docs.scipy.org/doc/scipy/reference/generated/scipy.stats.median_test.html\n",
    "import pandas as pd\n",
    "import matplotlib.pyplot as plt\n",
    "import seaborn as sns\n",
    "\n",
    "marketing_ab = pd.read_csv(\"C:/Users/bjros/OneDrive/Desktop/Kaggle Data Sets/Marketing_A-B_Testing/marketing_AB.csv\")\n",
    "#Replace Spaces with \"_\" Character in Column Names\n",
    "marketing_ab_1 = marketing_ab.rename(columns={'test group':'test_group', 'total ads':'total_ads'})\n",
    "\n",
    "#Create a Summary Table\n",
    "from scipy.stats import median_test\n",
    "# stats f_oneway functions takes the groups as input and returns ANOVA F and p value\n",
    "#fvalue, pvalue = stats.f_oneway(marketing_ab.loc[marketing_ab['test group']=='ad']['total ads'], marketing_ab.loc[marketing_ab['test group']=='psa']['total ads'])\n",
    "#print(fvalue, pvalue)\n",
    "\n",
    "# Mood's Median Analysis\n",
    "res = median_test([marketing_ab.loc[(marketing_ab['converted value']==1) & (marketing_ab['test group']=='ad') & (marketing_ab['most ads day']=='Sunday')]['converted value'].count()/marketing_ab.loc[(marketing_ab['test group']=='ad') & (marketing_ab['most ads day']=='Sunday')]['converted value'].count()\n",
    "                        , marketing_ab.loc[(marketing_ab['converted value']==1) & (marketing_ab['test group']=='ad') & (marketing_ab['most ads day']=='Monday')]['converted value'].count()/marketing_ab.loc[(marketing_ab['test group']=='ad') & (marketing_ab['most ads day']=='Monday')]['converted value'].count()\n",
    "                        , marketing_ab.loc[(marketing_ab['converted value']==1) & (marketing_ab['test group']=='ad') & (marketing_ab['most ads day']=='Tuesday')]['converted value'].count()/marketing_ab.loc[(marketing_ab['test group']=='ad') & (marketing_ab['most ads day']=='Tuesday')]['converted value'].count()\n",
    "                        , marketing_ab.loc[(marketing_ab['converted value']==1) & (marketing_ab['test group']=='ad') & (marketing_ab['most ads day']=='Wednesday')]['converted value'].count()/marketing_ab.loc[(marketing_ab['test group']=='ad') & (marketing_ab['most ads day']=='Wednesday')]['converted value'].count()\n",
    "                        , marketing_ab.loc[(marketing_ab['converted value']==1) & (marketing_ab['test group']=='ad') & (marketing_ab['most ads day']=='Thursday')]['converted value'].count()/marketing_ab.loc[(marketing_ab['test group']=='ad') & (marketing_ab['most ads day']=='Thursday')]['converted value'].count()\n",
    "                        , marketing_ab.loc[(marketing_ab['converted value']==1) & (marketing_ab['test group']=='ad') & (marketing_ab['most ads day']=='Friday')]['converted value'].count()/marketing_ab.loc[(marketing_ab['test group']=='ad') & (marketing_ab['most ads day']=='Friday')]['converted value'].count()\n",
    "                        , marketing_ab.loc[(marketing_ab['converted value']==1) & (marketing_ab['test group']=='ad') & (marketing_ab['most ads day']=='Saturday')]['converted value'].count()/marketing_ab.loc[(marketing_ab['test group']=='ad') & (marketing_ab['most ads day']=='Saturday')]['converted value'].count()]\n",
    "                          , [marketing_ab.loc[(marketing_ab['converted value']==1) & (marketing_ab['test group']=='psa') & (marketing_ab['most ads day']=='Sunday')]['converted value'].count()/marketing_ab.loc[(marketing_ab['test group']=='psa') & (marketing_ab['most ads day']=='Sunday')]['converted value'].count()\n",
    "                             , marketing_ab.loc[(marketing_ab['converted value']==1) & (marketing_ab['test group']=='psa') & (marketing_ab['most ads day']=='Monday')]['converted value'].count()/marketing_ab.loc[(marketing_ab['test group']=='psa') & (marketing_ab['most ads day']=='Monday')]['converted value'].count()\n",
    "                             , marketing_ab.loc[(marketing_ab['converted value']==1) & (marketing_ab['test group']=='psa') & (marketing_ab['most ads day']=='Tuesday')]['converted value'].count()/marketing_ab.loc[(marketing_ab['test group']=='psa') & (marketing_ab['most ads day']=='Tuesday')]['converted value'].count()\n",
    "                             , marketing_ab.loc[(marketing_ab['converted value']==1) & (marketing_ab['test group']=='psa') & (marketing_ab['most ads day']=='Wednesday')]['converted value'].count()/marketing_ab.loc[(marketing_ab['test group']=='psa') & (marketing_ab['most ads day']=='Wednesday')]['converted value'].count()\n",
    "                             , marketing_ab.loc[(marketing_ab['converted value']==1) & (marketing_ab['test group']=='psa') & (marketing_ab['most ads day']=='Thursday')]['converted value'].count()/marketing_ab.loc[(marketing_ab['test group']=='psa') & (marketing_ab['most ads day']=='Thursday')]['converted value'].count()\n",
    "                             , marketing_ab.loc[(marketing_ab['converted value']==1) & (marketing_ab['test group']=='psa') & (marketing_ab['most ads day']=='Friday')]['converted value'].count()/marketing_ab.loc[(marketing_ab['test group']=='psa') & (marketing_ab['most ads day']=='Friday')]['converted value'].count()\n",
    "                             , marketing_ab.loc[(marketing_ab['converted value']==1) & (marketing_ab['test group']=='psa') & (marketing_ab['most ads day']=='Saturday')]['converted value'].count()/marketing_ab.loc[(marketing_ab['test group']=='psa') & (marketing_ab['most ads day']=='Saturday')]['converted value'].count()\n",
    "                            ])\n",
    "res"
   ]
  },
  {
   "cell_type": "code",
   "execution_count": 4,
   "metadata": {},
   "outputs": [
    {
     "data": {
      "text/plain": [
       "4.571428571428571"
      ]
     },
     "execution_count": 4,
     "metadata": {},
     "output_type": "execute_result"
    }
   ],
   "source": [
    "#Print the Pearson's Chi Squared Test Statistic\n",
    "res[0]"
   ]
  },
  {
   "cell_type": "code",
   "execution_count": 5,
   "metadata": {},
   "outputs": [
    {
     "data": {
      "text/plain": [
       "0.032509444645719456"
      ]
     },
     "execution_count": 5,
     "metadata": {},
     "output_type": "execute_result"
    }
   ],
   "source": [
    "#Print the P-Value\n",
    "res[1]"
   ]
  },
  {
   "cell_type": "code",
   "execution_count": 6,
   "metadata": {},
   "outputs": [
    {
     "data": {
      "text/plain": [
       "0.02147185215423815"
      ]
     },
     "execution_count": 6,
     "metadata": {},
     "output_type": "execute_result"
    }
   ],
   "source": [
    "#Print the Median\n",
    "res[2]"
   ]
  },
  {
   "cell_type": "code",
   "execution_count": 7,
   "metadata": {},
   "outputs": [
    {
     "data": {
      "text/plain": [
       "array([[6, 1],\n",
       "       [1, 6]], dtype=int64)"
      ]
     },
     "execution_count": 7,
     "metadata": {},
     "output_type": "execute_result"
    }
   ],
   "source": [
    "#Print the Contingency Table Showing Rows Above the Grand Median and Below the Grand Median\n",
    "#Column 0 is Test Group 'ad', while Column 1 is Test Group 'psa'\n",
    "res[3]"
   ]
  },
  {
   "cell_type": "code",
   "execution_count": 11,
   "metadata": {},
   "outputs": [
    {
     "data": {
      "text/html": [
       "<div>\n",
       "<style scoped>\n",
       "    .dataframe tbody tr th:only-of-type {\n",
       "        vertical-align: middle;\n",
       "    }\n",
       "\n",
       "    .dataframe tbody tr th {\n",
       "        vertical-align: top;\n",
       "    }\n",
       "\n",
       "    .dataframe thead th {\n",
       "        text-align: right;\n",
       "    }\n",
       "</style>\n",
       "<table border=\"1\" class=\"dataframe\">\n",
       "  <thead>\n",
       "    <tr style=\"text-align: right;\">\n",
       "      <th></th>\n",
       "      <th>pearsons_chi_squared_statistic</th>\n",
       "      <th>p_value</th>\n",
       "      <th>median</th>\n",
       "      <th>contingency_table</th>\n",
       "    </tr>\n",
       "  </thead>\n",
       "  <tbody>\n",
       "    <tr>\n",
       "      <th>0</th>\n",
       "      <td>4.571429</td>\n",
       "      <td>0.032509</td>\n",
       "      <td>0.021472</td>\n",
       "      <td>[6, 1]</td>\n",
       "    </tr>\n",
       "    <tr>\n",
       "      <th>1</th>\n",
       "      <td>4.571429</td>\n",
       "      <td>0.032509</td>\n",
       "      <td>0.021472</td>\n",
       "      <td>[1, 6]</td>\n",
       "    </tr>\n",
       "  </tbody>\n",
       "</table>\n",
       "</div>"
      ],
      "text/plain": [
       "   pearsons_chi_squared_statistic   p_value    median contingency_table\n",
       "0                        4.571429  0.032509  0.021472            [6, 1]\n",
       "1                        4.571429  0.032509  0.021472            [1, 6]"
      ]
     },
     "execution_count": 11,
     "metadata": {},
     "output_type": "execute_result"
    }
   ],
   "source": [
    "#Create a DataFrame for Values\n",
    "median_test_df = pd.DataFrame({'pearsons_chi_squared_statistic':res[0], 'p_value':res[1], 'median':res[2], 'contingency_table':list(res[3])})\n",
    "median_test_df"
   ]
  },
  {
   "cell_type": "code",
   "execution_count": 12,
   "metadata": {},
   "outputs": [],
   "source": [
    "#Write to a CSV File\n",
    "median_test_df.to_csv('marketing_AB_conversion_rate_vs_test_group_test_statistic.csv')"
   ]
  },
  {
   "cell_type": "code",
   "execution_count": null,
   "metadata": {},
   "outputs": [],
   "source": []
  }
 ],
 "metadata": {
  "kernelspec": {
   "display_name": "Python 3",
   "language": "python",
   "name": "python3"
  },
  "language_info": {
   "codemirror_mode": {
    "name": "ipython",
    "version": 3
   },
   "file_extension": ".py",
   "mimetype": "text/x-python",
   "name": "python",
   "nbconvert_exporter": "python",
   "pygments_lexer": "ipython3",
   "version": "3.7.4"
  }
 },
 "nbformat": 4,
 "nbformat_minor": 4
}
